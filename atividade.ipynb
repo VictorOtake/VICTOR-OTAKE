{
 "cells": [
  {
   "cell_type": "code",
   "execution_count": null,
   "metadata": {},
   "outputs": [],
   "source": [
    "# 1. crie um programa que leia dois números e mostre a soma entre eles\n",
    "numb1 = int(input(\"Primeiro numero: \"))\n",
    "numb2 = int(input(\"Segundo numero: \"))\n",
    "\n",
    "soma = numb1+numb2\n",
    "\n",
    "print(f\"O resultado dos dois valores e {soma}\")"
   ]
  },
  {
   "cell_type": "code",
   "execution_count": null,
   "metadata": {},
   "outputs": [],
   "source": [
    "# 2. faça um programa que leia algo pelo teclado e mostre na tela o seu tipo primitivo\n",
    "\n",
    "caracter = input(\"Digite alguam coisa ai: \")\n",
    "\n",
    "print (type(caracter))"
   ]
  },
  {
   "cell_type": "code",
   "execution_count": null,
   "metadata": {},
   "outputs": [],
   "source": [
    "# 3. faça um programa que leia um número inteiro e mostre na tela o seu sucessor e seu antecessor\n",
    "\n",
    "numb1 = int(input(\"Digite um numero: \"))\n",
    "\n",
    "sucessor = numb1+1\n",
    "antecessor = numb1-1\n",
    "\n",
    "print(f\"O sucessor do numero {numb1} é {sucessor} e o antecessor é {antecessor}\")"
   ]
  },
  {
   "cell_type": "code",
   "execution_count": null,
   "metadata": {},
   "outputs": [],
   "source": [
    "# 5. desenvolva um programa que leia as duas notas de um aluno , calcule e mostre a sua média\n",
    "\n",
    "nota1 = float(input(\"Digite a primeira nota: \"))\n",
    "nota2 = float(input(\"Digite a primeira nota: \"))\n",
    "\n",
    "media = (nota1 + nota2) /2\n",
    "\n",
    "if media>=6:\n",
    "    print(f\"Esta Aprovado, com Média: {media}\")\n",
    "\n",
    "else:\n",
    "      print(f\"Esta Reprovado, com Média: {media}\")\n",
    "\n"
   ]
  },
  {
   "cell_type": "code",
   "execution_count": 10,
   "metadata": {},
   "outputs": [
    {
     "name": "stdout",
     "output_type": "stream",
     "text": [
      " 26161 X 1 = 26161\n",
      " 26161 X 2 = 52322\n",
      " 26161 X 3 = 78483\n",
      " 26161 X 4 = 104644\n",
      " 26161 X 5 = 130805\n",
      " 26161 X 6 = 156966\n",
      " 26161 X 7 = 183127\n",
      " 26161 X 8 = 209288\n",
      " 26161 X 9 = 235449\n",
      " 26161 X 10 = 261610\n",
      "26161\n",
      "52322\n",
      "78483\n",
      "104644\n",
      "130805\n",
      "156966\n",
      "183127\n",
      "209288\n",
      "235449\n",
      "261610\n"
     ]
    }
   ],
   "source": [
    "#6. faça um programa que leia um número inteiro qualquer\n",
    "#  e mostre na tela a sua tabuada\n",
    "# (lembrando que não aprendemos laço nessa linguagem ainda)\n",
    "\n",
    "num0 = int(input('digite um valor'))\n",
    "\n",
    "contador = 0\n",
    "\n",
    "while contador <10:\n",
    "    contador +=1\n",
    "    print(f\" {num0} X {contador} = {num0 * contador}\")\n",
    "\n",
    "    #or\n",
    "    \n",
    "print(num0 * 1)\n",
    "print(num0 * 2)\n",
    "print(num0 * 3)\n",
    "print(num0 * 4)\n",
    "print(num0 * 5)\n",
    "print(num0 * 6)\n",
    "print(num0 * 7)\n",
    "print(num0 * 8)\n",
    "print(num0 * 9)\n",
    "print(num0 * 10)"
   ]
  },
  {
   "cell_type": "code",
   "execution_count": null,
   "metadata": {},
   "outputs": [],
   "source": [
    "# 7. faça um algoritmo que leia o preço de um produto e mostre seu novo preço com 5% de desconto\n",
    "\n",
    "valor = float(input(\"Qual número do valor do produto: \"))\n",
    "\n",
    "desconto = valor*0.5\n",
    "\n",
    "preal = valor-desconto\n",
    "\n",
    "\n",
    "print(f\"Qual número para ser valor do produto: {preal}\")\n",
    "\n",
    "\n",
    "\n",
    "\n",
    "\n"
   ]
  }
 ],
 "metadata": {
  "kernelspec": {
   "display_name": "Python 3",
   "language": "python",
   "name": "python3"
  },
  "language_info": {
   "codemirror_mode": {
    "name": "ipython",
    "version": 3
   },
   "file_extension": ".py",
   "mimetype": "text/x-python",
   "name": "python",
   "nbconvert_exporter": "python",
   "pygments_lexer": "ipython3",
   "version": "3.13.2"
  }
 },
 "nbformat": 4,
 "nbformat_minor": 2
}
